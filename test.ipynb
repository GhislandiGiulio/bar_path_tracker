{
 "cells": [
  {
   "cell_type": "markdown",
   "metadata": {},
   "source": [
    "### Libraries import"
   ]
  },
  {
   "cell_type": "code",
   "execution_count": 21,
   "metadata": {},
   "outputs": [],
   "source": [
    "import cv2 as cv\n",
    "import numpy as np"
   ]
  },
  {
   "cell_type": "markdown",
   "metadata": {},
   "source": [
    "#### Sample Video import"
   ]
  },
  {
   "cell_type": "code",
   "execution_count": 22,
   "metadata": {},
   "outputs": [],
   "source": [
    "# Open the video capture\n",
    "cap = cv.VideoCapture('sample_data/c&j.mp4')"
   ]
  },
  {
   "cell_type": "code",
   "execution_count": 25,
   "metadata": {},
   "outputs": [
    {
     "ename": "error",
     "evalue": "OpenCV(4.10.0) D:\\a\\opencv-python\\opencv-python\\opencv\\modules\\highgui\\src\\window.cpp:973: error: (-215:Assertion failed) size.width>0 && size.height>0 in function 'cv::imshow'\n",
     "output_type": "error",
     "traceback": [
      "\u001b[1;31m---------------------------------------------------------------------------\u001b[0m",
      "\u001b[1;31merror\u001b[0m                                     Traceback (most recent call last)",
      "Cell \u001b[1;32mIn[25], line 16\u001b[0m\n\u001b[0;32m      4\u001b[0m \u001b[38;5;66;03m# Select the region of interest (ROI) for tracking\u001b[39;00m\n\u001b[0;32m      5\u001b[0m \u001b[38;5;66;03m#r, h, c, w = 550, 20, 180, 20  # (y, height, x, width)\u001b[39;00m\n\u001b[0;32m      6\u001b[0m \u001b[38;5;66;03m#roi = frame[r:r+h, c:c+w]\u001b[39;00m\n\u001b[1;32m   (...)\u001b[0m\n\u001b[0;32m     12\u001b[0m \n\u001b[0;32m     13\u001b[0m \u001b[38;5;66;03m# Convert the ROI to HSV color space\u001b[39;00m\n\u001b[0;32m     14\u001b[0m hsv_roi \u001b[38;5;241m=\u001b[39m cv\u001b[38;5;241m.\u001b[39mcvtColor(roi, cv\u001b[38;5;241m.\u001b[39mCOLOR_BGR2HSV)\n\u001b[1;32m---> 16\u001b[0m \u001b[43mcv\u001b[49m\u001b[38;5;241;43m.\u001b[39;49m\u001b[43mimshow\u001b[49m\u001b[43m(\u001b[49m\u001b[38;5;124;43m\"\u001b[39;49m\u001b[38;5;124;43mroi\u001b[39;49m\u001b[38;5;124;43m\"\u001b[39;49m\u001b[43m,\u001b[49m\u001b[43m \u001b[49m\u001b[43mframe\u001b[49m\u001b[43m)\u001b[49m\n\u001b[0;32m     17\u001b[0m cv\u001b[38;5;241m.\u001b[39mwaitKey(\u001b[38;5;241m0\u001b[39m)\n",
      "\u001b[1;31merror\u001b[0m: OpenCV(4.10.0) D:\\a\\opencv-python\\opencv-python\\opencv\\modules\\highgui\\src\\window.cpp:973: error: (-215:Assertion failed) size.width>0 && size.height>0 in function 'cv::imshow'\n"
     ]
    }
   ],
   "source": [
    "# Read the first frame of the video\n",
    "ret, frame = cap.read()\n",
    "\n",
    "# Select the region of interest (ROI) for tracking\n",
    "#r, h, c, w = 550, 20, 180, 20  # (y, height, x, width)\n",
    "#roi = frame[r:r+h, c:c+w]\n",
    "#\n",
    "##test rectangle\n",
    "#top_left = (c, r)\n",
    "#bottom_right = (c+w, r+h)\n",
    "#cv.rectangle(frame, top_left, bottom_right, (255,0,0), 5)\n",
    "\n",
    "# Convert the ROI to HSV color space\n",
    "hsv_roi = cv.cvtColor(roi, cv.COLOR_BGR2HSV)\n",
    "\n",
    "cv.imshow(\"roi\", frame)\n",
    "cv.waitKey(0)"
   ]
  },
  {
   "cell_type": "code",
   "execution_count": 24,
   "metadata": {},
   "outputs": [],
   "source": [
    "# Select the region of interest (ROI) for tracking\n",
    "r, h, c, w = 550, 20, 180, 20  # (y, height, x, width)\n",
    "roi = frame[r:r+h, c:c+w]\n",
    "\n",
    "# Convert the ROI to HSV color space\n",
    "hsv_roi = cv.cvtColor(roi, cv.COLOR_BGR2HSV)\n",
    "\n",
    "# Create a mask to filter out low light\n",
    "mask = cv.inRange(hsv_roi, np.array((0., 60., 32.)), np.array((180., 255., 255.)))\n",
    "\n",
    "# Compute the histogram of the ROI in the HSV color space\n",
    "roi_hist = cv.calcHist([hsv_roi], [0], mask, [180], [0, 180])\n",
    "\n",
    "# Normalize the histogram\n",
    "cv.normalize(roi_hist, roi_hist, 0, 255, cv.NORM_MINMAX)\n",
    "\n",
    "# Define the termination criteria: either 10 iterations or moving by at least 1 pt\n",
    "term_crit = (cv.TERM_CRITERIA_EPS | cv.TERM_CRITERIA_COUNT, 10, 1)\n",
    "\n",
    "# Create the initial window for tracking\n",
    "track_window = (c, r, w, h)\n",
    "\n",
    "while True:\n",
    "    # Capture a new frame\n",
    "    ret, frame = cap.read()\n",
    "\n",
    "    if ret:\n",
    "        # Convert the frame to HSV color space\n",
    "        hsv = cv.cvtColor(frame, cv.COLOR_BGR2HSV)\n",
    "\n",
    "        # Back-project the histogram of the ROI onto the new frame\n",
    "        dst = cv.calcBackProject([hsv], [0], roi_hist, [0, 180], 1)\n",
    "\n",
    "        # Apply the mean shift to get the new location\n",
    "        ret, track_window = cv.meanShift(dst, track_window, term_crit)\n",
    "\n",
    "        # Draw the new tracking window on the frame\n",
    "        x, y, w, h = track_window\n",
    "        cv.rectangle(frame, (x, y), (x+w, y+h), 255, 2)\n",
    "\n",
    "        # Display the result\n",
    "        cv.imshow('Mean Shift Tracking', frame)\n",
    "\n",
    "        # Exit when the user presses the Esc key\n",
    "        if cv.waitKey(30) & 0xFF == 27:\n",
    "            break\n",
    "    else:\n",
    "        break\n",
    "\n",
    "# Release the capture and close windows\n",
    "cap.release()\n",
    "cv.destroyAllWindows()"
   ]
  },
  {
   "cell_type": "code",
   "execution_count": null,
   "metadata": {},
   "outputs": [],
   "source": []
  }
 ],
 "metadata": {
  "kernelspec": {
   "display_name": ".venv",
   "language": "python",
   "name": "python3"
  },
  "language_info": {
   "codemirror_mode": {
    "name": "ipython",
    "version": 3
   },
   "file_extension": ".py",
   "mimetype": "text/x-python",
   "name": "python",
   "nbconvert_exporter": "python",
   "pygments_lexer": "ipython3",
   "version": "3.12.3"
  }
 },
 "nbformat": 4,
 "nbformat_minor": 2
}
